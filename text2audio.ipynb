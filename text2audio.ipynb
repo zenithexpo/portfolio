{
  "nbformat": 4,
  "nbformat_minor": 0,
  "metadata": {
    "colab": {
      "name": "text2audio.ipynb",
      "provenance": [],
      "authorship_tag": "ABX9TyNHsmzzQiQ4JPl54fZN34Gn"
    },
    "kernelspec": {
      "name": "python3",
      "display_name": "Python 3"
    }
  },
  "cells": [
    {
      "cell_type": "code",
      "metadata": {
        "id": "7mcC71mVUNeu",
        "colab_type": "code",
        "colab": {}
      },
      "source": [
        "from gtts import gTTS\n",
        "from playsound import playsound"
      ],
      "execution_count": 0,
      "outputs": []
    },
    {
      "cell_type": "code",
      "metadata": {
        "id": "pOcQgke3UVWX",
        "colab_type": "code",
        "colab": {
          "base_uri": "https://localhost:8080/",
          "height": 104
        },
        "outputId": "1ce92067-bc19-4373-b8c0-4e3c0b9cce57"
      },
      "source": [
        "!pip install playsound"
      ],
      "execution_count": 4,
      "outputs": [
        {
          "output_type": "stream",
          "text": [
            "Collecting playsound\n",
            "  Downloading https://files.pythonhosted.org/packages/f5/16/10d897b0a83fb4b05b03a63d7a2667ab75f857f67f7062fd447dd3f49bf7/playsound-1.2.2-py2.py3-none-any.whl\n",
            "Installing collected packages: playsound\n",
            "Successfully installed playsound-1.2.2\n"
          ],
          "name": "stdout"
        }
      ]
    },
    {
      "cell_type": "code",
      "metadata": {
        "id": "DnvkutEfUcnO",
        "colab_type": "code",
        "colab": {}
      },
      "source": [
        "audio = 'speech.mp3'\n",
        "language = 'en'\n",
        "sp = gTTS(text = \"Hey! Diksha, How are you doing?\", lang= 'en', slow = False)\n",
        "\n",
        "sp.save(audio)\n",
        "playsound(audio)"
      ],
      "execution_count": 0,
      "outputs": []
    },
    {
      "cell_type": "code",
      "metadata": {
        "id": "WWj-8fdJU-rU",
        "colab_type": "code",
        "colab": {}
      },
      "source": [
        ""
      ],
      "execution_count": 0,
      "outputs": []
    }
  ]
}